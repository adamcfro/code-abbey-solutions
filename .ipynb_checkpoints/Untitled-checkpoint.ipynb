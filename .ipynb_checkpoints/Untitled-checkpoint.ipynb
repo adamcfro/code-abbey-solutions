{
 "cells": [
  {
   "cell_type": "code",
   "execution_count": 96,
   "metadata": {},
   "outputs": [],
   "source": [
    "def smoothing(lst):\n",
    "    my_list = []\n",
    "    my_list.append(lst[0])\n",
    "    for i in range(1, len(lst) - 1):\n",
    "        number = (lst[i] + lst[i + 1] + lst[i - 1]) / 3\n",
    "        my_list.append(number)\n",
    "    my_list.append(lst[-1])\n",
    "    return my_list"
   ]
  },
  {
   "cell_type": "code",
   "execution_count": 97,
   "metadata": {},
   "outputs": [
    {
     "name": "stdout",
     "output_type": "stream",
     "text": [
      "[32.6, 33.0, 34.6, 39.166666666666664, 41.46666666666667, 43.699999999999996, 44.1]\n"
     ]
    }
   ],
   "source": [
    "print(smoothing([32.6, 31.2, 35.2, 37.4, 44.9, 42.1, 44.1]))"
   ]
  },
  {
   "cell_type": "code",
   "execution_count": 26,
   "metadata": {},
   "outputs": [],
   "source": []
  },
  {
   "cell_type": "code",
   "execution_count": null,
   "metadata": {},
   "outputs": [],
   "source": [
    "def smoothing(lst):\n",
    "    my_list = []\n",
    "    my_list.append(lst[0])\n",
    "    for i in lst:\n",
    "        number = (lst[i] + lst[i + 1] + lst[i - 1]) / 3\n",
    "        my_list.append(number)\n",
    "    my_list.append(lst[-1])\n",
    "    return my_list"
   ]
  },
  {
   "cell_type": "code",
   "execution_count": null,
   "metadata": {},
   "outputs": [],
   "source": [
    "print(smoothing([32.6, 31.2, 35.2, 37.4, 44.9, 42.1, 44.1]))"
   ]
  },
  {
   "cell_type": "code",
   "execution_count": null,
   "metadata": {},
   "outputs": [],
   "source": []
  },
  {
   "cell_type": "code",
   "execution_count": null,
   "metadata": {},
   "outputs": [],
   "source": []
  },
  {
   "cell_type": "code",
   "execution_count": null,
   "metadata": {},
   "outputs": [],
   "source": []
  }
 ],
 "metadata": {
  "kernelspec": {
   "display_name": "Python 3",
   "language": "python",
   "name": "python3"
  },
  "language_info": {
   "codemirror_mode": {
    "name": "ipython",
    "version": 3
   },
   "file_extension": ".py",
   "mimetype": "text/x-python",
   "name": "python",
   "nbconvert_exporter": "python",
   "pygments_lexer": "ipython3",
   "version": "3.6.4"
  }
 },
 "nbformat": 4,
 "nbformat_minor": 2
}
